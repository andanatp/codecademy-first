{
 "cells": [
  {
   "cell_type": "markdown",
   "metadata": {},
   "source": [
    "# U.S. Medical Insurance Costs"
   ]
  },
  {
   "cell_type": "markdown",
   "metadata": {},
   "source": [
    "Goals:\n",
    "-  Average age?\n",
    "-  count male and female\n",
    "-  most region\n",
    "-  which region that has highest bmi (average)"
   ]
  },
  {
   "cell_type": "code",
   "execution_count": 77,
   "metadata": {},
   "outputs": [],
   "source": [
    "import csv\n",
    "import statistics\n",
    "import pandas as pd\n",
    "from decimal import Decimal"
   ]
  },
  {
   "cell_type": "code",
   "execution_count": 78,
   "metadata": {},
   "outputs": [],
   "source": [
    "age = []\n",
    "sex = []\n",
    "bmi = []\n",
    "children = []\n",
    "smoker = []\n",
    "region = []\n",
    "charges = []"
   ]
  },
  {
   "cell_type": "code",
   "execution_count": 79,
   "metadata": {},
   "outputs": [],
   "source": [
    "with open('insurance.csv') as insurance_csv:\n",
    "    insurance_dict = csv.DictReader(insurance_csv)\n",
    "    for row in insurance_dict:\n",
    "        age.append(row['age'])\n",
    "        sex.append(row['sex'])\n",
    "        bmi.append(row['bmi'])\n",
    "        children.append(row['children'])\n",
    "        smoker.append(row['smoker'])\n",
    "        region.append(row['region'])\n",
    "        charges.append(row['charges'])\n",
    "        \n",
    "data_insurance = pd.DataFrame(list(zip(age,sex,bmi,children,smoker,region,charges)),columns= ['age','sex','bmi', 'children', 'smoker','region', 'charges'])\n"
   ]
  },
  {
   "cell_type": "markdown",
   "metadata": {},
   "source": [
    "Average age"
   ]
  },
  {
   "cell_type": "code",
   "execution_count": 80,
   "metadata": {},
   "outputs": [
    {
     "data": {
      "text/plain": [
       "Decimal('39.21')"
      ]
     },
     "execution_count": 80,
     "metadata": {},
     "output_type": "execute_result"
    }
   ],
   "source": [
    "def average_age():\n",
    "    total_age = sum(Decimal(i) for i in age)\n",
    "    return round(total_age / len(age), 2)\n",
    "average_age()"
   ]
  },
  {
   "cell_type": "markdown",
   "metadata": {},
   "source": [
    "Count male and female"
   ]
  },
  {
   "cell_type": "code",
   "execution_count": 81,
   "metadata": {},
   "outputs": [
    {
     "data": {
      "text/plain": [
       "(676, 662)"
      ]
     },
     "execution_count": 81,
     "metadata": {},
     "output_type": "execute_result"
    }
   ],
   "source": [
    "def count_sex():\n",
    "    sum_male = sex.count('male')\n",
    "    sum_female = sex.count('female')\n",
    "    return sum_male, sum_female\n",
    "count_sex()    "
   ]
  },
  {
   "cell_type": "markdown",
   "metadata": {},
   "source": [
    "Count region and show most region"
   ]
  },
  {
   "cell_type": "code",
   "execution_count": 82,
   "metadata": {},
   "outputs": [
    {
     "name": "stdout",
     "output_type": "stream",
     "text": [
      "Southeast : 364\n",
      "Southwest : 325\n",
      "Northwest : 325\n",
      "Northeast : 324\n"
     ]
    },
    {
     "data": {
      "text/plain": [
       "'southeast'"
      ]
     },
     "execution_count": 82,
     "metadata": {},
     "output_type": "execute_result"
    }
   ],
   "source": [
    "## print(set(region))\n",
    "## now we know that we have 4 regions\n",
    "\n",
    "def count_region():\n",
    "    print('Southeast : ' + str(region.count('southeast')))\n",
    "    print('Southwest : ' + str(region.count('southwest')))\n",
    "    print('Northwest : ' + str(region.count('northwest')))\n",
    "    print('Northeast : ' + str(region.count('northeast')))\n",
    "    return count_region\n",
    "\n",
    "def most():\n",
    "    most_region = statistics.mode(region)\n",
    "    return most_region\n",
    "\n",
    "\n",
    "count_region()\n",
    "most()\n"
   ]
  },
  {
   "cell_type": "markdown",
   "metadata": {},
   "source": [
    "Which region has the highest BMI?"
   ]
  },
  {
   "cell_type": "code",
   "execution_count": 83,
   "metadata": {},
   "outputs": [
    {
     "name": "stdout",
     "output_type": "stream",
     "text": [
      "Southeast with 33.35598901098901\n"
     ]
    }
   ],
   "source": [
    "##change bmi from string to float\n",
    "data_insurance['bmi'] = data_insurance['bmi'].astype(float)\n",
    "\n",
    "##calculate average from every region\n",
    "data1 = data_insurance.loc[data_insurance['region'] == 'southeast', 'bmi'].mean()\n",
    "data2 = data_insurance.loc[data_insurance['region'] == 'southwest', 'bmi'].mean()\n",
    "data3 = data_insurance.loc[data_insurance['region'] == 'northeast', 'bmi'].mean()\n",
    "data4 = data_insurance.loc[data_insurance['region'] == 'northwest', 'bmi'].mean()\n",
    "\n",
    "bmi_region = {'Southeast': data1, 'Southwest' : data2, 'Northeast' : data3, 'Northwest' : data4}\n",
    "\n",
    "maxbmi = max(bmi_region, key=bmi_region.get)\n",
    "print(maxbmi + ' with ' + str(max(data1,data2,data3,data4)))\n",
    "\n",
    "\n",
    "\n"
   ]
  }
 ],
 "metadata": {
  "kernelspec": {
   "display_name": "Python 3",
   "language": "python",
   "name": "python3"
  },
  "language_info": {
   "codemirror_mode": {
    "name": "ipython",
    "version": 3
   },
   "file_extension": ".py",
   "mimetype": "text/x-python",
   "name": "python",
   "nbconvert_exporter": "python",
   "pygments_lexer": "ipython3",
   "version": "3.9.6"
  }
 },
 "nbformat": 4,
 "nbformat_minor": 4
}
